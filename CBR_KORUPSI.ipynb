{
  "cells": [
    {
      "cell_type": "markdown",
      "metadata": {
        "id": "view-in-github",
        "colab_type": "text"
      },
      "source": [
        "<a href=\"https://colab.research.google.com/github/nabilafirdaiss/CBR_MA_KORUPSI/blob/main/CBR_KORUPSI.ipynb\" target=\"_parent\"><img src=\"https://colab.research.google.com/assets/colab-badge.svg\" alt=\"Open In Colab\"/></a>"
      ]
    },
    {
      "cell_type": "markdown",
      "id": "c2a22698",
      "metadata": {
        "id": "c2a22698"
      },
      "source": [
        "## <a id='representation'></a> 1. Case Representation"
      ]
    },
    {
      "cell_type": "code",
      "source": [
        "from google.colab import drive\n",
        "drive.mount('/content/drive')\n"
      ],
      "metadata": {
        "colab": {
          "base_uri": "https://localhost:8080/"
        },
        "id": "0jEQ5WfZ31zP",
        "outputId": "82f61828-9192-4a03-90cd-6dee02e5be01"
      },
      "id": "0jEQ5WfZ31zP",
      "execution_count": 1,
      "outputs": [
        {
          "output_type": "stream",
          "name": "stdout",
          "text": [
            "Mounted at /content/drive\n"
          ]
        }
      ]
    },
    {
      "cell_type": "code",
      "execution_count": 25,
      "id": "fb73d99c",
      "metadata": {
        "colab": {
          "base_uri": "https://localhost:8080/"
        },
        "id": "fb73d99c",
        "outputId": "ddb201d4-ce0b-47ad-e181-b971dae081da"
      },
      "outputs": [
        {
          "output_type": "stream",
          "name": "stdout",
          "text": [
            "Jumlah data: 46\n",
            "label\n",
            "0    33\n",
            "1    13\n",
            "Name: count, dtype: int64\n"
          ]
        }
      ],
      "source": [
        "import pandas as pd, re\n",
        "\n",
        "# Load CSV hasil scraping\n",
        "CSV_PATH = '/content/drive/MyDrive/PK/CSV/putusan_ma__2025-06-27.csv'\n",
        "df = pd.read_csv(CSV_PATH)\n",
        "\n",
        "# Labeling: 0 = Pertama, 1 = Banding\n",
        "label_map = {'Pertama':0, 'Banding':1}\n",
        "df = df[df['tingkat_proses'].isin(label_map.keys())].copy()\n",
        "df['label'] = df['tingkat_proses'].map(label_map)\n",
        "\n",
        "# Gabungkan teks\n",
        "text_cols = ['amar', 'kaidah', 'abstrak', 'text_pdf']\n",
        "df['combined_text'] = df[text_cols].fillna('').agg(' '.join, axis=1)\n",
        "\n",
        "print(\"Jumlah data:\", len(df))\n",
        "print(df['label'].value_counts())\n"
      ]
    },
    {
      "cell_type": "markdown",
      "id": "26ac2cd1",
      "metadata": {
        "id": "26ac2cd1"
      },
      "source": [
        "## <a id='retrieval'></a> 2. Case Retrieval"
      ]
    },
    {
      "cell_type": "markdown",
      "source": [
        "TFIDF"
      ],
      "metadata": {
        "id": "X5ZSFkAcg66o"
      },
      "id": "X5ZSFkAcg66o"
    },
    {
      "cell_type": "code",
      "source": [
        "import pandas as pd\n",
        "from sklearn.feature_extraction.text import TfidfVectorizer\n",
        "from sklearn.model_selection import train_test_split\n",
        "from sklearn.svm import LinearSVC\n",
        "from sklearn.naive_bayes import MultinomialNB\n",
        "from sklearn.metrics import accuracy_score, classification_report\n",
        "\n",
        "# Contoh: df harus punya kolom teks dan label\n",
        "# Misal kolom teks = 'combined_text', label = 'label'\n",
        "\n",
        "texts = df['combined_text'].astype(str).tolist()\n",
        "labels = df['label'].astype(int).tolist()\n",
        "\n",
        "vectorizer = TfidfVectorizer(max_features=5000)  # Batasi fitur untuk efisiensi\n",
        "X_tfidf = vectorizer.fit_transform(texts)\n",
        "\n",
        "# Keep track of original indices\n",
        "original_indices = df.index.tolist()\n",
        "\n",
        "X_train, X_test, y_train, y_test, train_indices, test_indices = train_test_split(\n",
        "    X_tfidf, labels, original_indices, test_size=0.3, random_state=42, stratify=labels)"
      ],
      "metadata": {
        "id": "DznGHX6Lg8mp"
      },
      "id": "DznGHX6Lg8mp",
      "execution_count": 58,
      "outputs": []
    },
    {
      "cell_type": "markdown",
      "source": [
        "SVM"
      ],
      "metadata": {
        "id": "e3PppwX2hUg7"
      },
      "id": "e3PppwX2hUg7"
    },
    {
      "cell_type": "code",
      "source": [
        "svm_clf = LinearSVC(class_weight='balanced', C=1.0)\n",
        "svm_clf.fit(X_train, y_train)\n",
        "y_pred_svm = svm_clf.predict(X_test)"
      ],
      "metadata": {
        "id": "eH7uH868hCxp"
      },
      "id": "eH7uH868hCxp",
      "execution_count": 59,
      "outputs": []
    },
    {
      "cell_type": "markdown",
      "source": [
        "NB"
      ],
      "metadata": {
        "id": "8_gWJDVzqnAJ"
      },
      "id": "8_gWJDVzqnAJ"
    },
    {
      "cell_type": "code",
      "source": [
        "nb_clf = MultinomialNB()\n",
        "nb_clf.fit(X_train, y_train)\n",
        "y_pred_nb = nb_clf.predict(X_test)\n"
      ],
      "metadata": {
        "id": "a07vkDxmqnkw"
      },
      "id": "a07vkDxmqnkw",
      "execution_count": 64,
      "outputs": []
    },
    {
      "cell_type": "markdown",
      "id": "10a3599a",
      "metadata": {
        "id": "10a3599a"
      },
      "source": [
        "## <a id='reuse'></a> 3. Case / Solution Reuse"
      ]
    },
    {
      "cell_type": "code",
      "execution_count": 60,
      "id": "4b7ce5bf",
      "metadata": {
        "id": "4b7ce5bf"
      },
      "outputs": [],
      "source": [
        "# ------------------------------------------------------------------\n",
        "# 1. Siapkan retriever (cosine) setelah TF-IDF selesai\n",
        "# ------------------------------------------------------------------\n",
        "from sklearn.neighbors import NearestNeighbors\n",
        "\n",
        "retriever = NearestNeighbors(n_neighbors=5, metric=\"cosine\")\n",
        "retriever.fit(X_tfidf)                # X_tfidf = vectorizer.fit_transform(texts)\n",
        "\n",
        "# ------------------------------------------------------------------\n",
        "# 2. Fungsi ambil top-k kasus mirip\n",
        "# ------------------------------------------------------------------\n",
        "def retrieve_cases(query: str, k: int = 5) -> pd.DataFrame:\n",
        "    \"\"\"Kembalikan k kasus paling mirip berdasarkan cosine-similarity TF-IDF.\"\"\"\n",
        "    q_vec = vectorizer.transform([query])\n",
        "    _, idx = retriever.kneighbors(q_vec, n_neighbors=k)\n",
        "    return df.iloc[idx[0]].reset_index(drop=True)\n",
        "\n",
        "# ------------------------------------------------------------------\n",
        "# 3. Fungsi prediksi dengan (a) SVM  (b) CBR-reuse mayoritas\n",
        "# ------------------------------------------------------------------\n",
        "def predict_outcome_with_reuse(query: str, k: int = 5):\n",
        "    # --- CBR: ambil top-k kasus mirip ---\n",
        "    top_k_cases = retrieve_cases(query, k)\n",
        "\n",
        "    # Mayoritas label → solusi reuse\n",
        "    reused_label  = top_k_cases[\"label\"].mode().iloc[0]\n",
        "    reused_solusi = \"BANDING\" if reused_label == 1 else \"PERTAMA\"\n",
        "\n",
        "    # --- Klasifikasi langsung dengan SVM ---\n",
        "    q_vec      = vectorizer.transform([query])\n",
        "    pred_label = svm_clf.predict(q_vec)[0]\n",
        "    svm_solusi = \"BANDING\" if pred_label == 1 else \"PERTAMA\"\n",
        "\n",
        "    # --- Tampilkan hasil ---\n",
        "    print(f\">>> Prediksi SVM        : {svm_solusi}\")\n",
        "    print(f\">>> Prediksi CBR (reuse): {reused_solusi}\")\n",
        "    print(\"\\nTop-k kasus mirip:\")\n",
        "    display(top_k_cases[[\"nomor\", \"judul\", \"tingkat_proses\"]])\n",
        "\n",
        "    return {\"svm\": svm_solusi,\n",
        "            \"cbr\": reused_solusi,\n",
        "            \"top_cases\": top_k_cases}\n"
      ]
    },
    {
      "cell_type": "markdown",
      "source": [
        "Demo"
      ],
      "metadata": {
        "id": "Mw0dKaxKbGeh"
      },
      "id": "Mw0dKaxKbGeh"
    },
    {
      "cell_type": "code",
      "source": [
        "query_demo = \"\"\"\n",
        "Terdakwa menyalahgunakan dana proyek pembangunan dan mengajukan banding\n",
        "atas putusan pengadilan negeri.\n",
        "\"\"\"\n",
        "\n",
        "predict_outcome_with_reuse(query_demo, k=5)"
      ],
      "metadata": {
        "colab": {
          "base_uri": "https://localhost:8080/",
          "height": 1000
        },
        "id": "GZZTHSCYbIV2",
        "outputId": "1308efe0-aaae-4eb0-fb45-6f9b47fe95f2"
      },
      "id": "GZZTHSCYbIV2",
      "execution_count": 61,
      "outputs": [
        {
          "output_type": "stream",
          "name": "stdout",
          "text": [
            ">>> Prediksi SVM        : PERTAMA\n",
            ">>> Prediksi CBR (reuse): BANDING\n",
            "\n",
            "Top-k kasus mirip:\n"
          ]
        },
        {
          "output_type": "display_data",
          "data": {
            "text/plain": [
              "                                               nomor  \\\n",
              "0  Putusan PN AMBON Nomor 11/Pid.Sus-TPK/2025/PN ...   \n",
              "1  Putusan PT SURABAYA Nomor 64/PID.SUS-TPK/2024/...   \n",
              "2  Putusan PT BANGKA BELITUNG Nomor 9/PID.TPK/202...   \n",
              "3  Putusan PN SURABAYA Nomor 117/Pid.Sus-TPK/2024...   \n",
              "4  Putusan PT MEDAN Nomor 20/PID.SUS-TPK/2025/PT ...   \n",
              "\n",
              "                                               judul tingkat_proses  \n",
              "0  Putusan PN AMBON Nomor 11/Pid.Sus-TPK/2025/PN ...        Pertama  \n",
              "1  Putusan PT SURABAYA Nomor 64/PID.SUS-TPK/2024/...        Banding  \n",
              "2  Putusan PT BANGKA BELITUNG Nomor 9/PID.TPK/202...        Banding  \n",
              "3  Putusan PN SURABAYA Nomor 117/Pid.Sus-TPK/2024...        Pertama  \n",
              "4  Putusan PT MEDAN Nomor 20/PID.SUS-TPK/2025/PT ...        Banding  "
            ],
            "text/html": [
              "\n",
              "  <div id=\"df-f6f5476b-7ed7-48dc-bcac-3ed9834af653\" class=\"colab-df-container\">\n",
              "    <div>\n",
              "<style scoped>\n",
              "    .dataframe tbody tr th:only-of-type {\n",
              "        vertical-align: middle;\n",
              "    }\n",
              "\n",
              "    .dataframe tbody tr th {\n",
              "        vertical-align: top;\n",
              "    }\n",
              "\n",
              "    .dataframe thead th {\n",
              "        text-align: right;\n",
              "    }\n",
              "</style>\n",
              "<table border=\"1\" class=\"dataframe\">\n",
              "  <thead>\n",
              "    <tr style=\"text-align: right;\">\n",
              "      <th></th>\n",
              "      <th>nomor</th>\n",
              "      <th>judul</th>\n",
              "      <th>tingkat_proses</th>\n",
              "    </tr>\n",
              "  </thead>\n",
              "  <tbody>\n",
              "    <tr>\n",
              "      <th>0</th>\n",
              "      <td>Putusan PN AMBON Nomor 11/Pid.Sus-TPK/2025/PN ...</td>\n",
              "      <td>Putusan PN AMBON Nomor 11/Pid.Sus-TPK/2025/PN ...</td>\n",
              "      <td>Pertama</td>\n",
              "    </tr>\n",
              "    <tr>\n",
              "      <th>1</th>\n",
              "      <td>Putusan PT SURABAYA Nomor 64/PID.SUS-TPK/2024/...</td>\n",
              "      <td>Putusan PT SURABAYA Nomor 64/PID.SUS-TPK/2024/...</td>\n",
              "      <td>Banding</td>\n",
              "    </tr>\n",
              "    <tr>\n",
              "      <th>2</th>\n",
              "      <td>Putusan PT BANGKA BELITUNG Nomor 9/PID.TPK/202...</td>\n",
              "      <td>Putusan PT BANGKA BELITUNG Nomor 9/PID.TPK/202...</td>\n",
              "      <td>Banding</td>\n",
              "    </tr>\n",
              "    <tr>\n",
              "      <th>3</th>\n",
              "      <td>Putusan PN SURABAYA Nomor 117/Pid.Sus-TPK/2024...</td>\n",
              "      <td>Putusan PN SURABAYA Nomor 117/Pid.Sus-TPK/2024...</td>\n",
              "      <td>Pertama</td>\n",
              "    </tr>\n",
              "    <tr>\n",
              "      <th>4</th>\n",
              "      <td>Putusan PT MEDAN Nomor 20/PID.SUS-TPK/2025/PT ...</td>\n",
              "      <td>Putusan PT MEDAN Nomor 20/PID.SUS-TPK/2025/PT ...</td>\n",
              "      <td>Banding</td>\n",
              "    </tr>\n",
              "  </tbody>\n",
              "</table>\n",
              "</div>\n",
              "    <div class=\"colab-df-buttons\">\n",
              "\n",
              "  <div class=\"colab-df-container\">\n",
              "    <button class=\"colab-df-convert\" onclick=\"convertToInteractive('df-f6f5476b-7ed7-48dc-bcac-3ed9834af653')\"\n",
              "            title=\"Convert this dataframe to an interactive table.\"\n",
              "            style=\"display:none;\">\n",
              "\n",
              "  <svg xmlns=\"http://www.w3.org/2000/svg\" height=\"24px\" viewBox=\"0 -960 960 960\">\n",
              "    <path d=\"M120-120v-720h720v720H120Zm60-500h600v-160H180v160Zm220 220h160v-160H400v160Zm0 220h160v-160H400v160ZM180-400h160v-160H180v160Zm440 0h160v-160H620v160ZM180-180h160v-160H180v160Zm440 0h160v-160H620v160Z\"/>\n",
              "  </svg>\n",
              "    </button>\n",
              "\n",
              "  <style>\n",
              "    .colab-df-container {\n",
              "      display:flex;\n",
              "      gap: 12px;\n",
              "    }\n",
              "\n",
              "    .colab-df-convert {\n",
              "      background-color: #E8F0FE;\n",
              "      border: none;\n",
              "      border-radius: 50%;\n",
              "      cursor: pointer;\n",
              "      display: none;\n",
              "      fill: #1967D2;\n",
              "      height: 32px;\n",
              "      padding: 0 0 0 0;\n",
              "      width: 32px;\n",
              "    }\n",
              "\n",
              "    .colab-df-convert:hover {\n",
              "      background-color: #E2EBFA;\n",
              "      box-shadow: 0px 1px 2px rgba(60, 64, 67, 0.3), 0px 1px 3px 1px rgba(60, 64, 67, 0.15);\n",
              "      fill: #174EA6;\n",
              "    }\n",
              "\n",
              "    .colab-df-buttons div {\n",
              "      margin-bottom: 4px;\n",
              "    }\n",
              "\n",
              "    [theme=dark] .colab-df-convert {\n",
              "      background-color: #3B4455;\n",
              "      fill: #D2E3FC;\n",
              "    }\n",
              "\n",
              "    [theme=dark] .colab-df-convert:hover {\n",
              "      background-color: #434B5C;\n",
              "      box-shadow: 0px 1px 3px 1px rgba(0, 0, 0, 0.15);\n",
              "      filter: drop-shadow(0px 1px 2px rgba(0, 0, 0, 0.3));\n",
              "      fill: #FFFFFF;\n",
              "    }\n",
              "  </style>\n",
              "\n",
              "    <script>\n",
              "      const buttonEl =\n",
              "        document.querySelector('#df-f6f5476b-7ed7-48dc-bcac-3ed9834af653 button.colab-df-convert');\n",
              "      buttonEl.style.display =\n",
              "        google.colab.kernel.accessAllowed ? 'block' : 'none';\n",
              "\n",
              "      async function convertToInteractive(key) {\n",
              "        const element = document.querySelector('#df-f6f5476b-7ed7-48dc-bcac-3ed9834af653');\n",
              "        const dataTable =\n",
              "          await google.colab.kernel.invokeFunction('convertToInteractive',\n",
              "                                                    [key], {});\n",
              "        if (!dataTable) return;\n",
              "\n",
              "        const docLinkHtml = 'Like what you see? Visit the ' +\n",
              "          '<a target=\"_blank\" href=https://colab.research.google.com/notebooks/data_table.ipynb>data table notebook</a>'\n",
              "          + ' to learn more about interactive tables.';\n",
              "        element.innerHTML = '';\n",
              "        dataTable['output_type'] = 'display_data';\n",
              "        await google.colab.output.renderOutput(dataTable, element);\n",
              "        const docLink = document.createElement('div');\n",
              "        docLink.innerHTML = docLinkHtml;\n",
              "        element.appendChild(docLink);\n",
              "      }\n",
              "    </script>\n",
              "  </div>\n",
              "\n",
              "\n",
              "    <div id=\"df-4334dbc9-c383-4d96-b385-3fd7dd0c50f2\">\n",
              "      <button class=\"colab-df-quickchart\" onclick=\"quickchart('df-4334dbc9-c383-4d96-b385-3fd7dd0c50f2')\"\n",
              "                title=\"Suggest charts\"\n",
              "                style=\"display:none;\">\n",
              "\n",
              "<svg xmlns=\"http://www.w3.org/2000/svg\" height=\"24px\"viewBox=\"0 0 24 24\"\n",
              "     width=\"24px\">\n",
              "    <g>\n",
              "        <path d=\"M19 3H5c-1.1 0-2 .9-2 2v14c0 1.1.9 2 2 2h14c1.1 0 2-.9 2-2V5c0-1.1-.9-2-2-2zM9 17H7v-7h2v7zm4 0h-2V7h2v10zm4 0h-2v-4h2v4z\"/>\n",
              "    </g>\n",
              "</svg>\n",
              "      </button>\n",
              "\n",
              "<style>\n",
              "  .colab-df-quickchart {\n",
              "      --bg-color: #E8F0FE;\n",
              "      --fill-color: #1967D2;\n",
              "      --hover-bg-color: #E2EBFA;\n",
              "      --hover-fill-color: #174EA6;\n",
              "      --disabled-fill-color: #AAA;\n",
              "      --disabled-bg-color: #DDD;\n",
              "  }\n",
              "\n",
              "  [theme=dark] .colab-df-quickchart {\n",
              "      --bg-color: #3B4455;\n",
              "      --fill-color: #D2E3FC;\n",
              "      --hover-bg-color: #434B5C;\n",
              "      --hover-fill-color: #FFFFFF;\n",
              "      --disabled-bg-color: #3B4455;\n",
              "      --disabled-fill-color: #666;\n",
              "  }\n",
              "\n",
              "  .colab-df-quickchart {\n",
              "    background-color: var(--bg-color);\n",
              "    border: none;\n",
              "    border-radius: 50%;\n",
              "    cursor: pointer;\n",
              "    display: none;\n",
              "    fill: var(--fill-color);\n",
              "    height: 32px;\n",
              "    padding: 0;\n",
              "    width: 32px;\n",
              "  }\n",
              "\n",
              "  .colab-df-quickchart:hover {\n",
              "    background-color: var(--hover-bg-color);\n",
              "    box-shadow: 0 1px 2px rgba(60, 64, 67, 0.3), 0 1px 3px 1px rgba(60, 64, 67, 0.15);\n",
              "    fill: var(--button-hover-fill-color);\n",
              "  }\n",
              "\n",
              "  .colab-df-quickchart-complete:disabled,\n",
              "  .colab-df-quickchart-complete:disabled:hover {\n",
              "    background-color: var(--disabled-bg-color);\n",
              "    fill: var(--disabled-fill-color);\n",
              "    box-shadow: none;\n",
              "  }\n",
              "\n",
              "  .colab-df-spinner {\n",
              "    border: 2px solid var(--fill-color);\n",
              "    border-color: transparent;\n",
              "    border-bottom-color: var(--fill-color);\n",
              "    animation:\n",
              "      spin 1s steps(1) infinite;\n",
              "  }\n",
              "\n",
              "  @keyframes spin {\n",
              "    0% {\n",
              "      border-color: transparent;\n",
              "      border-bottom-color: var(--fill-color);\n",
              "      border-left-color: var(--fill-color);\n",
              "    }\n",
              "    20% {\n",
              "      border-color: transparent;\n",
              "      border-left-color: var(--fill-color);\n",
              "      border-top-color: var(--fill-color);\n",
              "    }\n",
              "    30% {\n",
              "      border-color: transparent;\n",
              "      border-left-color: var(--fill-color);\n",
              "      border-top-color: var(--fill-color);\n",
              "      border-right-color: var(--fill-color);\n",
              "    }\n",
              "    40% {\n",
              "      border-color: transparent;\n",
              "      border-right-color: var(--fill-color);\n",
              "      border-top-color: var(--fill-color);\n",
              "    }\n",
              "    60% {\n",
              "      border-color: transparent;\n",
              "      border-right-color: var(--fill-color);\n",
              "    }\n",
              "    80% {\n",
              "      border-color: transparent;\n",
              "      border-right-color: var(--fill-color);\n",
              "      border-bottom-color: var(--fill-color);\n",
              "    }\n",
              "    90% {\n",
              "      border-color: transparent;\n",
              "      border-bottom-color: var(--fill-color);\n",
              "    }\n",
              "  }\n",
              "</style>\n",
              "\n",
              "      <script>\n",
              "        async function quickchart(key) {\n",
              "          const quickchartButtonEl =\n",
              "            document.querySelector('#' + key + ' button');\n",
              "          quickchartButtonEl.disabled = true;  // To prevent multiple clicks.\n",
              "          quickchartButtonEl.classList.add('colab-df-spinner');\n",
              "          try {\n",
              "            const charts = await google.colab.kernel.invokeFunction(\n",
              "                'suggestCharts', [key], {});\n",
              "          } catch (error) {\n",
              "            console.error('Error during call to suggestCharts:', error);\n",
              "          }\n",
              "          quickchartButtonEl.classList.remove('colab-df-spinner');\n",
              "          quickchartButtonEl.classList.add('colab-df-quickchart-complete');\n",
              "        }\n",
              "        (() => {\n",
              "          let quickchartButtonEl =\n",
              "            document.querySelector('#df-4334dbc9-c383-4d96-b385-3fd7dd0c50f2 button');\n",
              "          quickchartButtonEl.style.display =\n",
              "            google.colab.kernel.accessAllowed ? 'block' : 'none';\n",
              "        })();\n",
              "      </script>\n",
              "    </div>\n",
              "\n",
              "    </div>\n",
              "  </div>\n"
            ],
            "application/vnd.google.colaboratory.intrinsic+json": {
              "type": "dataframe",
              "summary": "{\n  \"name\": \"predict_outcome_with_reuse(query_demo, k=5)\",\n  \"rows\": 5,\n  \"fields\": [\n    {\n      \"column\": \"nomor\",\n      \"properties\": {\n        \"dtype\": \"string\",\n        \"num_unique_values\": 5,\n        \"samples\": [\n          \"Putusan PT SURABAYA Nomor 64/PID.SUS-TPK/2024/PT SBY Tanggal 24 Desember 2024 \\u2014Pembanding/Terbanding/Penuntut Umum : Moch. Taufiq Ismail, S.HTerbanding/Pembanding/Terdakwa : MUSTAQIM, S.T. BIN MUSLIMIN HAG ALM Diwakili Oleh : Dimas Juardiman, S.H\",\n          \"Putusan PT MEDAN Nomor 20/PID.SUS-TPK/2025/PT MDN Tanggal 26 Juni 2025 \\u2014Pembanding/Terbanding/Terdakwa : FITRIANI Diwakili Oleh : Drs. Jekson Napitupulu, SHTerbanding/Pembanding/Penuntut Umum I : ELIESER ADHITIA BARUS, S.HTerbanding/Pembanding/Penuntut Umum II : MHD. SYAKDAN HAMIDI NASUTION, S.H.Terbanding/Pembanding/Penuntut Umum III : DAVID RICARDO SIMAMORA, SH.\",\n          \"Putusan PT BANGKA BELITUNG Nomor 9/PID.TPK/2024/PT BBL Tanggal 31 Desember 2024 \\u2014Pembanding/Terbanding/Penuntut Umum : Anggoro Arif Wicaksono, S.H., M.H.Terbanding/Pembanding/Terdakwa : IWAN SAHIE Diwakili Oleh : Heru Andeska, S.H.\"\n        ],\n        \"semantic_type\": \"\",\n        \"description\": \"\"\n      }\n    },\n    {\n      \"column\": \"judul\",\n      \"properties\": {\n        \"dtype\": \"string\",\n        \"num_unique_values\": 5,\n        \"samples\": [\n          \"Putusan PT SURABAYA Nomor 64/PID.SUS-TPK/2024/PT SBY Tanggal 24 Desember 2024 \\u2014Pembanding/Terbanding/Penuntut Umum : Moch. Taufiq Ismail, S.HTerbanding/Pembanding/Terdakwa : MUSTAQIM, S.T. BIN MUSLIMIN HAG ALM Diwakili Oleh : Dimas Juardiman, S.H\",\n          \"Putusan PT MEDAN Nomor 20/PID.SUS-TPK/2025/PT MDN Tanggal 26 Juni 2025 \\u2014Pembanding/Terbanding/Terdakwa : FITRIANI Diwakili Oleh : Drs. Jekson Napitupulu, SHTerbanding/Pembanding/Penuntut Umum I : ELIESER ADHITIA BARUS, S.HTerbanding/Pembanding/Penuntut Umum II : MHD. SYAKDAN HAMIDI NASUTION, S.H.Terbanding/Pembanding/Penuntut Umum III : DAVID RICARDO SIMAMORA, SH.  \",\n          \"Putusan PT BANGKA BELITUNG Nomor 9/PID.TPK/2024/PT BBL Tanggal 31 Desember 2024 \\u2014Pembanding/Terbanding/Penuntut Umum : Anggoro Arif Wicaksono, S.H., M.H.Terbanding/Pembanding/Terdakwa : IWAN SAHIE Diwakili Oleh : Heru Andeska, S.H.\"\n        ],\n        \"semantic_type\": \"\",\n        \"description\": \"\"\n      }\n    },\n    {\n      \"column\": \"tingkat_proses\",\n      \"properties\": {\n        \"dtype\": \"category\",\n        \"num_unique_values\": 2,\n        \"samples\": [\n          \"Banding\",\n          \"Pertama\"\n        ],\n        \"semantic_type\": \"\",\n        \"description\": \"\"\n      }\n    }\n  ]\n}"
            }
          },
          "metadata": {}
        },
        {
          "output_type": "execute_result",
          "data": {
            "text/plain": [
              "{'svm': 'PERTAMA',\n",
              " 'cbr': 'BANDING',\n",
              " 'top_cases':                                                judul  \\\n",
              " 0  Putusan PN AMBON Nomor 11/Pid.Sus-TPK/2025/PN ...   \n",
              " 1  Putusan PT SURABAYA Nomor 64/PID.SUS-TPK/2024/...   \n",
              " 2  Putusan PT BANGKA BELITUNG Nomor 9/PID.TPK/202...   \n",
              " 3  Putusan PN SURABAYA Nomor 117/Pid.Sus-TPK/2024...   \n",
              " 4  Putusan PT MEDAN Nomor 20/PID.SUS-TPK/2025/PT ...   \n",
              " \n",
              "                                                nomor tingkat_proses  \\\n",
              " 0  Putusan PN AMBON Nomor 11/Pid.Sus-TPK/2025/PN ...        Pertama   \n",
              " 1  Putusan PT SURABAYA Nomor 64/PID.SUS-TPK/2024/...        Banding   \n",
              " 2  Putusan PT BANGKA BELITUNG Nomor 9/PID.TPK/202...        Banding   \n",
              " 3  Putusan PN SURABAYA Nomor 117/Pid.Sus-TPK/2024...        Pertama   \n",
              " 4  Putusan PT MEDAN Nomor 20/PID.SUS-TPK/2025/PT ...        Banding   \n",
              " \n",
              "                                klasifikasi             kata_kunci  tahun  \\\n",
              " 0  Pidana Khusus \\n Pidana Khusus  Korupsi  Tindak Pidana Korupsi   2025   \n",
              " 1  Pidana Khusus \\n Pidana Khusus  Korupsi  Tindak Pidana Korupsi   2024   \n",
              " 2  Pidana Khusus \\n Pidana Khusus  Korupsi  Tindak Pidana Korupsi   2024   \n",
              " 3  Pidana Khusus \\n Pidana Khusus  Korupsi  Tindak Pidana Korupsi   2024   \n",
              " 4  Pidana Khusus \\n Pidana Khusus  Korupsi  Tindak Pidana Korupsi   2025   \n",
              " \n",
              "    tanggal_register   lembaga_peradilan jenis_lembaga_peradilan  \\\n",
              " 0     17 Maret 2025            PN AMBON                      PN   \n",
              " 1  12 Desember 2024         PT SURABAYA                      PT   \n",
              " 2  19 Desember 2024  PT BANGKA BELITUNG                      PT   \n",
              " 3    9 Oktober 2024         PN SURABAYA                      PN   \n",
              " 4       19 Mei 2025            PT MEDAN                      PT   \n",
              " \n",
              "                          hakim_ketua  ... tanggal_dibacakan kaidah  \\\n",
              " 0            Hakim Ketua Wilsonriver  ...      25 Juni 2025      —   \n",
              " 1               Elang Prakoso Wibowo  ...  24 Desember 2024      —   \n",
              " 2                           Suprapti  ...  31 Desember 2024      —   \n",
              " 3  Hakim Ketua I Dewa Gede Suarditha  ...  24 Desember 2024      —   \n",
              " 4                          Serliwaty  ...      26 Juni 2025      —   \n",
              " \n",
              "                 status abstrak  \\\n",
              " 0                  NaN     NaN   \n",
              " 1                  NaN     NaN   \n",
              " 2  M E N G A D I L I :     NaN   \n",
              " 3                  NaN     NaN   \n",
              " 4                  NaN     NaN   \n",
              " \n",
              "                                                 link  \\\n",
              " 0  https://putusan3.mahkamahagung.go.id/direktori...   \n",
              " 1  https://putusan3.mahkamahagung.go.id/direktori...   \n",
              " 2  https://putusan3.mahkamahagung.go.id/direktori...   \n",
              " 3  https://putusan3.mahkamahagung.go.id/direktori...   \n",
              " 4  https://putusan3.mahkamahagung.go.id/direktori...   \n",
              " \n",
              "                                             link_pdf  \\\n",
              " 0  https://putusan3.mahkamahagung.go.id/direktori...   \n",
              " 1  https://putusan3.mahkamahagung.go.id/direktori...   \n",
              " 2  https://putusan3.mahkamahagung.go.id/direktori...   \n",
              " 3  https://putusan3.mahkamahagung.go.id/direktori...   \n",
              " 4  https://putusan3.mahkamahagung.go.id/direktori...   \n",
              " \n",
              "                       file_name_pdf  \\\n",
              " 0  zaf052159b03018e8c38303534313539   \n",
              " 1  zaefc1a02c6c09c48e44303933383335   \n",
              " 2  zaefc74400919022982d313335333535   \n",
              " 3  zaefccdb7149a7c29468313634303334   \n",
              " 4  zaf0524bd4ecd308b636313231303039   \n",
              " \n",
              "                                             text_pdf label  \\\n",
              " 0  Direktori Putusan Mahkamah Agung Republik Indo...     0   \n",
              " 1  Direktori Putusan Mahkamah Agung Republik Indo...     1   \n",
              " 2  Direktori Putusan Mahkamah Agung Republik Indo...     1   \n",
              " 3  Direktori Putusan Mahkamah Agung Republik Indo...     0   \n",
              " 4  Direktori Putusan Mahkamah Agung Republik Indo...     1   \n",
              " \n",
              "                                        combined_text  \n",
              " 0  Lain-lain —  Direktori Putusan Mahkamah Agung ...  \n",
              " 1  Lain-lain —  Direktori Putusan Mahkamah Agung ...  \n",
              " 2  Lain-lain —  Direktori Putusan Mahkamah Agung ...  \n",
              " 3  Lain-lain —  Direktori Putusan Mahkamah Agung ...  \n",
              " 4  Lain-lain —  Direktori Putusan Mahkamah Agung ...  \n",
              " \n",
              " [5 rows x 26 columns]}"
            ]
          },
          "metadata": {},
          "execution_count": 61
        }
      ]
    },
    {
      "cell_type": "markdown",
      "id": "8f48adfc",
      "metadata": {
        "id": "8f48adfc"
      },
      "source": [
        "## <a id='evaluation'></a> 5. Evaluasi Model"
      ]
    },
    {
      "cell_type": "code",
      "source": [
        "print(\"🔹 SVM Performance:\")\n",
        "print(\"Accuracy:\", accuracy_score(y_test, y_pred_svm))\n",
        "print(classification_report(y_test, y_pred_svm))\n"
      ],
      "metadata": {
        "colab": {
          "base_uri": "https://localhost:8080/"
        },
        "id": "Hl-Ituv1dI1J",
        "outputId": "61f06fe6-6c2c-4b4e-c978-5e8ad0770b07"
      },
      "id": "Hl-Ituv1dI1J",
      "execution_count": 62,
      "outputs": [
        {
          "output_type": "stream",
          "name": "stdout",
          "text": [
            "🔹 SVM Performance:\n",
            "Accuracy: 0.9285714285714286\n",
            "              precision    recall  f1-score   support\n",
            "\n",
            "           0       0.91      1.00      0.95        10\n",
            "           1       1.00      0.75      0.86         4\n",
            "\n",
            "    accuracy                           0.93        14\n",
            "   macro avg       0.95      0.88      0.90        14\n",
            "weighted avg       0.94      0.93      0.93        14\n",
            "\n"
          ]
        }
      ]
    },
    {
      "cell_type": "code",
      "source": [
        "print(\"🔹 Naive Bayes Performance:\")\n",
        "print(\"Accuracy:\", accuracy_score(y_test, y_pred_nb))\n",
        "print(classification_report(y_test, y_pred_nb, target_names=[\"Pertama\", \"Banding\"]))"
      ],
      "metadata": {
        "colab": {
          "base_uri": "https://localhost:8080/"
        },
        "id": "3CM-0Shgq1y6",
        "outputId": "1860a267-6daf-4a58-8de5-4181ee89eb79"
      },
      "id": "3CM-0Shgq1y6",
      "execution_count": 65,
      "outputs": [
        {
          "output_type": "stream",
          "name": "stdout",
          "text": [
            "🔹 Naive Bayes Performance:\n",
            "Accuracy: 0.7142857142857143\n",
            "              precision    recall  f1-score   support\n",
            "\n",
            "     Pertama       0.71      1.00      0.83        10\n",
            "     Banding       0.00      0.00      0.00         4\n",
            "\n",
            "    accuracy                           0.71        14\n",
            "   macro avg       0.36      0.50      0.42        14\n",
            "weighted avg       0.51      0.71      0.60        14\n",
            "\n"
          ]
        },
        {
          "output_type": "stream",
          "name": "stderr",
          "text": [
            "/usr/local/lib/python3.11/dist-packages/sklearn/metrics/_classification.py:1706: UndefinedMetricWarning: Precision is ill-defined and being set to 0.0 in labels with no predicted samples. Use `zero_division` parameter to control this behavior.\n",
            "  _warn_prf(average, modifier, f\"{metric.capitalize()} is\", result.shape[0])\n",
            "/usr/local/lib/python3.11/dist-packages/sklearn/metrics/_classification.py:1706: UndefinedMetricWarning: Precision is ill-defined and being set to 0.0 in labels with no predicted samples. Use `zero_division` parameter to control this behavior.\n",
            "  _warn_prf(average, modifier, f\"{metric.capitalize()} is\", result.shape[0])\n",
            "/usr/local/lib/python3.11/dist-packages/sklearn/metrics/_classification.py:1706: UndefinedMetricWarning: Precision is ill-defined and being set to 0.0 in labels with no predicted samples. Use `zero_division` parameter to control this behavior.\n",
            "  _warn_prf(average, modifier, f\"{metric.capitalize()} is\", result.shape[0])\n"
          ]
        }
      ]
    },
    {
      "cell_type": "code",
      "source": [
        "import matplotlib.pyplot as plt\n",
        "from sklearn.metrics import accuracy_score, f1_score\n",
        "\n",
        "# Hitung metrik evaluasi\n",
        "acc_svm = accuracy_score(y_test, y_pred_svm)\n",
        "acc_nb = accuracy_score(y_test, y_pred_nb)\n",
        "\n",
        "f1_svm = f1_score(y_test, y_pred_svm, average=\"macro\")\n",
        "f1_nb = f1_score(y_test, y_pred_nb, average=\"macro\")\n",
        "\n",
        "# Data untuk visualisasi\n",
        "models = ['SVM', 'Naive Bayes']\n",
        "accuracies = [acc_svm, acc_nb]\n",
        "f1_scores = [f1_svm, f1_nb]\n",
        "\n",
        "# 🎯 Visualisasi Akurasi\n",
        "plt.figure(figsize=(6, 4))\n",
        "plt.bar(models, accuracies, color=['skyblue', 'orange'])\n",
        "plt.title('Perbandingan Akurasi Model')\n",
        "plt.ylabel('Akurasi')\n",
        "plt.ylim(0, 1)\n",
        "for i, v in enumerate(accuracies):\n",
        "    plt.text(i, v + 0.02, f\"{v:.2f}\", ha='center', fontweight='bold')\n",
        "plt.show()\n",
        "\n",
        "# 🎯 Visualisasi F1-score\n",
        "plt.figure(figsize=(6, 4))\n",
        "plt.bar(models, f1_scores, color=['skyblue', 'orange'])\n",
        "plt.title('Perbandingan Macro F1-score Model')\n",
        "plt.ylabel('F1-score (macro avg)')\n",
        "plt.ylim(0, 1)\n",
        "for i, v in enumerate(f1_scores):\n",
        "    plt.text(i, v + 0.02, f\"{v:.2f}\", ha='center', fontweight='bold')\n",
        "plt.show()\n"
      ],
      "metadata": {
        "colab": {
          "base_uri": "https://localhost:8080/",
          "height": 765
        },
        "id": "AlUyNSZirQeB",
        "outputId": "ebe0e964-962d-4404-a7c8-8833519bb78f"
      },
      "id": "AlUyNSZirQeB",
      "execution_count": 66,
      "outputs": [
        {
          "output_type": "display_data",
          "data": {
            "text/plain": [
              "<Figure size 600x400 with 1 Axes>"
            ],
            "image/png": "[encoded data removed]"
          },
          "metadata": {}
        },
        {
          "output_type": "display_data",
          "data": {
            "text/plain": [
              "<Figure size 600x400 with 1 Axes>"
            ],
            "image/png": "[encoded data removed]"
          },
          "metadata": {}
        }
      ]
    },
    {
      "cell_type": "code",
      "execution_count": 63,
      "id": "7008535c",
      "metadata": {
        "colab": {
          "base_uri": "https://localhost:8080/"
        },
        "id": "7008535c",
        "outputId": "36e2ab2b-eea8-4bb1-ccf6-29a29352e90e"
      },
      "outputs": [
        {
          "output_type": "stream",
          "name": "stdout",
          "text": [
            "\n",
            "🛑 Jumlah prediksi salah: 1 dari 14 data uji\n",
            "Contoh kasus salah klasifikasi:\n",
            "\n",
            "🔸 Nomor Putusan: Putusan PT MALUKU UTARA Nomor 15/PID.SUS-TPK/2024/PT TTE Tanggal 31 Desember 2024 —Pembanding/Terbanding/Penuntut Umum VII : R. GILANG WARIH PRAKOSO, S.H.Terbanding/Pembanding/Terdakwa : NURAKSAR KODJA Diwakili Oleh : Mayor Chk Wirya, S.H.\n",
            "Judul           : Putusan PT MALUKU UTARA Nomor 15/PID.SUS-TPK/2024/PT TTE Tanggal 31 Desember 2024 —Pembanding/Terbanding/Penuntut Umum VII : R. GILANG WARIH PRAKOSO, S.H.Terbanding/Pembanding/Terdakwa : NURAKSAR KODJA Diwakili Oleh : Mayor Chk Wirya, S.H.\n",
            "Asli            : Banding\n",
            "Prediksi SVM    : Pertama\n",
            "Cuplikan Putusan: Lain-lain —  Direktori Putusan Mahkamah Agung Republik Indonesia putusan.mahkamahagung.go.id  Mahkamah Agung Republik Indonesia Mahkamah Agung Republik Indonesia Mahkamah Agung Republik Indonesia Mahkamah Agung Republik Indonesia Mahkamah Agung Repub\n"
          ]
        }
      ],
      "source": [
        "import numpy as np\n",
        "\n",
        "# Cari indeks prediksi salah di subset test_indices\n",
        "wrong_idx_in_test_indices = np.where(np.array(y_test) != np.array(y_pred_svm))[0]\n",
        "\n",
        "print(f\"\\n🛑 Jumlah prediksi salah: {len(wrong_idx_in_test_indices)} dari {len(y_test)} data uji\")\n",
        "print(\"Contoh kasus salah klasifikasi:\")\n",
        "\n",
        "for i in wrong_idx_in_test_indices[:5]:\n",
        "    # Get the original index from the stored test_indices\n",
        "    original_df_index = test_indices[i]\n",
        "    row = df.loc[original_df_index]\n",
        "\n",
        "    print(f\"\\n🔸 Nomor Putusan: {row['nomor']}\")\n",
        "    print(f\"Judul           : {row['judul']}\")\n",
        "    print(f\"Asli            : {'Banding' if y_test[i]==1 else 'Pertama'}\")\n",
        "    print(f\"Prediksi SVM    : {'Banding' if y_pred_svm[i]==1 else 'Pertama'}\")\n",
        "\n",
        "    combined = row.get('combined_text', '')\n",
        "    if isinstance(combined, str):\n",
        "        snippet = combined[:250].replace('\\n', ' ')\n",
        "    else:\n",
        "        snippet = '[Teks tidak tersedia]'\n",
        "\n",
        "    print(f\"Cuplikan Putusan: {snippet}\")"
      ]
    }
  ],
  "metadata": {
    "colab": {
      "provenance": [],
      "include_colab_link": true
    },
    "language_info": {
      "name": "python"
    },
    "kernelspec": {
      "name": "python3",
      "display_name": "Python 3"
    }
  },
  "nbformat": 4,
  "nbformat_minor": 5
}